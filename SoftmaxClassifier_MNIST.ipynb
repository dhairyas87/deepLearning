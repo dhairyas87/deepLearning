{
  "nbformat": 4,
  "nbformat_minor": 0,
  "metadata": {
    "colab": {
      "name": "Untitled1.ipynb",
      "provenance": [],
      "authorship_tag": "ABX9TyO0YxCGD8YFLLfcULw1lTam",
      "include_colab_link": true
    },
    "kernelspec": {
      "name": "python3",
      "display_name": "Python 3"
    },
    "language_info": {
      "name": "python"
    }
  },
  "cells": [
    {
      "cell_type": "markdown",
      "metadata": {
        "id": "view-in-github",
        "colab_type": "text"
      },
      "source": [
        "<a href=\"https://colab.research.google.com/github/dhairyas87/deepLearning/blob/main/SoftmaxClassifier_MNIST.ipynb\" target=\"_parent\"><img src=\"https://colab.research.google.com/assets/colab-badge.svg\" alt=\"Open In Colab\"/></a>"
      ]
    },
    {
      "cell_type": "code",
      "metadata": {
        "id": "hwkNASFdzN0A"
      },
      "source": [
        "#import tensorflow and MNIST Data\n",
        "import tensorflow as tf\n",
        "(train_images, train_labels), (test_images, test_labels) = tf.keras.datasets.mnist.load_data()"
      ],
      "execution_count": 4,
      "outputs": []
    },
    {
      "cell_type": "code",
      "metadata": {
        "colab": {
          "base_uri": "https://localhost:8080/"
        },
        "id": "fvb5ISBa2BHn",
        "outputId": "130ad57e-7b0e-471e-a33b-5494b363c9c9"
      },
      "source": [
        "#Size of train and test images\n",
        "print(train_images.shape)\n",
        "print(train_labels.shape)\n",
        "print(test_images.shape)\n",
        "print(test_labels.shape)"
      ],
      "execution_count": 14,
      "outputs": [
        {
          "output_type": "stream",
          "text": [
            "(60000, 28, 28)\n",
            "(60000,)\n",
            "(10000, 28, 28)\n",
            "(10000,)\n"
          ],
          "name": "stdout"
        }
      ]
    },
    {
      "cell_type": "code",
      "metadata": {
        "id": "mV6zReTd5okY"
      },
      "source": [
        "#one hot encoding -Categorical data\n",
        "from tensorflow.keras.utils import to_categorical\n",
        "train_labels = to_categorical(train_labels)\n",
        "test_labels = to_categorical(test_labels)\n"
      ],
      "execution_count": 18,
      "outputs": []
    },
    {
      "cell_type": "code",
      "metadata": {
        "id": "1omiywWc6u7l"
      },
      "source": [
        "#Placeholder is used to allocate space in the tensorflow\n",
        "#Constant is the constant value used\n",
        "#Variables are the variables that are changed i.e W and b in WX+b =Y (Predicted)\n",
        "tf.compat.v1.disable_eager_execution()\n",
        "x =tf.compat.v1.placeholder(tf.float32, shape=(None, 728))"
      ],
      "execution_count": 11,
      "outputs": []
    }
  ]
}